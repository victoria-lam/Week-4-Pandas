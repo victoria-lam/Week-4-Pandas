{
 "cells": [
  {
   "cell_type": "code",
   "execution_count": 1,
   "metadata": {
    "collapsed": true
   },
   "outputs": [],
   "source": [
    "import pandas as pd \n",
    "import numpy as np"
   ]
  },
  {
   "cell_type": "code",
   "execution_count": 2,
   "metadata": {
    "collapsed": true
   },
   "outputs": [],
   "source": [
    "#Open and read files for school and students csv\n",
    "school_csv = \"schools_complete.csv\"\n",
    "students_csv = \"students_complete.csv\"\n",
    "\n",
    "school_df = pd.read_csv(school_csv)\n",
    "students_df = pd.read_csv(students_csv)"
   ]
  },
  {
   "cell_type": "code",
   "execution_count": 13,
   "metadata": {},
   "outputs": [],
   "source": [
    "total_schools = len(school_df[\"name\"].unique())\n",
    "total_students = students_df[\"name\"].count()\n",
    "total_budget = school_df[\"budget\"].sum()\n",
    "avg_math = students_df[\"math_score\"].mean()\n",
    "avg_reading = students_df[\"reading_score\"].mean()\n",
    "\n",
    "#calculate percent of students that passed based on failing score of 65%\n",
    "\n",
    "pass_math = students_df.loc[students_df[\"math_score\"] > 65, [\"math_score\"]].count()\n",
    "percent_pass_math = round((pass_math/total_students) * 100, 0)\n",
    "\n",
    "pass_reading = students_df.loc[students_df[\"reading_score\"] > 65, [\"reading_score\"]].count()\n",
    "percent_pass_reading = round((pass_reading/total_students) * 100, 0)\n",
    "\n",
    "#% overall pass = students who scored >65 on math and reading\n",
    "overall_pass = students_df.loc[(students_df[\"math_score\"] > 65)  & (students_df[\"reading_score\"] > 65), \"name\"].count()\n",
    "percent_overall_pass = round((overall_pass/total_students) * 100, 0)"
   ]
  },
  {
   "cell_type": "code",
   "execution_count": 14,
   "metadata": {},
   "outputs": [
    {
     "data": {
      "text/html": [
       "<div>\n",
       "<style>\n",
       "    .dataframe thead tr:only-child th {\n",
       "        text-align: right;\n",
       "    }\n",
       "\n",
       "    .dataframe thead th {\n",
       "        text-align: left;\n",
       "    }\n",
       "\n",
       "    .dataframe tbody tr th {\n",
       "        vertical-align: top;\n",
       "    }\n",
       "</style>\n",
       "<table border=\"1\" class=\"dataframe\">\n",
       "  <thead>\n",
       "    <tr style=\"text-align: right;\">\n",
       "      <th></th>\n",
       "      <th>Total Schools</th>\n",
       "      <th>Total Students</th>\n",
       "      <th>Total Budget</th>\n",
       "      <th>Average Math Score</th>\n",
       "      <th>Average Reading Score</th>\n",
       "      <th>% Passing Math</th>\n",
       "      <th>% Passing Reading</th>\n",
       "      <th>% Overall Passing Rate</th>\n",
       "    </tr>\n",
       "  </thead>\n",
       "  <tbody>\n",
       "    <tr>\n",
       "      <th>0</th>\n",
       "      <td>15</td>\n",
       "      <td>39,170</td>\n",
       "      <td>$24,649,428.00</td>\n",
       "      <td>78.985371</td>\n",
       "      <td>81.87784</td>\n",
       "      <td>83.0</td>\n",
       "      <td>94.0</td>\n",
       "      <td>79.0</td>\n",
       "    </tr>\n",
       "  </tbody>\n",
       "</table>\n",
       "</div>"
      ],
      "text/plain": [
       "   Total Schools Total Students    Total Budget  Average Math Score  \\\n",
       "0             15         39,170  $24,649,428.00           78.985371   \n",
       "\n",
       "   Average Reading Score  % Passing Math  % Passing Reading  \\\n",
       "0               81.87784            83.0               94.0   \n",
       "\n",
       "   % Overall Passing Rate  \n",
       "0                    79.0  "
      ]
     },
     "execution_count": 14,
     "metadata": {},
     "output_type": "execute_result"
    }
   ],
   "source": [
    "#creating DISTRICT summary table\n",
    "\n",
    "summary_table = pd.DataFrame({\"Total Schools\": [total_schools],\n",
    "                              \"Total Students\": [total_students],\n",
    "                              \"Total Budget\": [total_budget],\n",
    "                              \"Average Math Score\": [avg_math],\n",
    "                              \"Average Reading Score\": [avg_reading],\n",
    "                              \"% Passing Math\": [percent_pass_math.values[0]],\n",
    "                              \"% Passing Reading\": [percent_pass_reading.values[0]],\n",
    "                              \"% Overall Passing Rate\": [percent_overall_pass]})\n",
    "\n",
    "#summary_table[\"Overally Passing Rate\"] = summary_table[percent_pass_math.value[0]] + summary_table[percent_pass_reading.values[0]]\n",
    "#reorganize the format\n",
    "summary_table[\"Total Budget\"] = summary_table[\"Total Budget\"].map(\"${:,.2f}\".format)\n",
    "summary_table[\"Total Students\"] = summary_table[\"Total Students\"].map(\"{:,}\".format)\n",
    "organized_summary_table = summary_table[[\"Total Schools\", \"Total Students\", \"Total Budget\", \"Average Math Score\", \n",
    "                                         \"Average Reading Score\", \"% Passing Math\", \"% Passing Reading\", \"% Overall Passing Rate\"]]\n",
    "organized_summary_table"
   ]
  },
  {
   "cell_type": "code",
   "execution_count": null,
   "metadata": {
    "collapsed": true
   },
   "outputs": [],
   "source": []
  }
 ],
 "metadata": {
  "kernelspec": {
   "display_name": "Python 3",
   "language": "python",
   "name": "python3"
  },
  "language_info": {
   "codemirror_mode": {
    "name": "ipython",
    "version": 3
   },
   "file_extension": ".py",
   "mimetype": "text/x-python",
   "name": "python",
   "nbconvert_exporter": "python",
   "pygments_lexer": "ipython3",
   "version": "3.6.3"
  }
 },
 "nbformat": 4,
 "nbformat_minor": 2
}
